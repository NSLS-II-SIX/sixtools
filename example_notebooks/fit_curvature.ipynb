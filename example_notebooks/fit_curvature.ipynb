{
 "cells": [
  {
   "cell_type": "code",
   "execution_count": null,
   "metadata": {},
   "outputs": [],
   "source": [
    "%matplotlib widget"
   ]
  },
  {
   "cell_type": "code",
   "execution_count": null,
   "metadata": {},
   "outputs": [],
   "source": [
    "import numpy as np\n",
    "import matplotlib.pyplot as plt\n",
    "from matplotlib.patches import Rectangle\n",
    "from mpl_toolkits.axes_grid1 import make_axes_locatable\n",
    "\n",
    "from databroker import DataBroker as db\n",
    "from sixtools.rixs_wrapper import make_scan, calibrate, interp_robust\n",
    "from sixtools.plotting_functions import plot_frame, plot_scan\n",
    "from sixtools.GUI_components import markers\n",
    "from rixs.process2d import image_to_photon_events, fit_curvature, get_curvature_offsets, estimate_elastic_pos\n",
    "from rixs.plotting_functions import plot_pcolor\n",
    "\n",
    "from ipywidgets import interact, interactive, fixed, HBox, VBox,Label, Layout, FloatText, IntSlider, Dropdown, SelectMultiple\n",
    "from IPython.display import clear_output, display"
   ]
  },
  {
   "cell_type": "code",
   "execution_count": null,
   "metadata": {},
   "outputs": [],
   "source": [
    "%%capture\n",
    "fig_frames, ax_frames = plt.subplots(num=0, figsize=(10, 4), clear=True)\n",
    "fig_curvature, ax_curvature = plt.subplots(num=1, clear=True)"
   ]
  },
  {
   "cell_type": "markdown",
   "metadata": {},
   "source": [
    "## Define and execute processing"
   ]
  },
  {
   "cell_type": "code",
   "execution_count": null,
   "metadata": {},
   "outputs": [],
   "source": [
    "process_dicts = {'low_2theta': {'light_ROI': [slice(175, 1500), slice(4130, 4700)],\n",
    "                                'curvature': np.array([0., 0., 0.]),\n",
    "                                'bins': None,\n",
    "                                'background': None},\n",
    "                 'high_2theta': {'light_ROI': [slice(175, 1500), slice(900, 1300)],\n",
    "                                 'curvature': np.array([0., 0., 0.]),\n",
    "                                 'bins': None,\n",
    "                                 'background': None}\n",
    "                }\n",
    "\n",
    "light_ROIs = [d['light_ROI'] for _, d in process_dicts.items()]\n",
    "\n",
    "# ids\n",
    "scan_ids = list(range(34354, 34354+1))\n",
    "\n",
    "# Process data\n",
    "frames = np.array([ImageStack for header in db[scan_ids] for ImageStack in header.data('rixscam_image')])\n",
    "event_labels = [\"{}\".format(i) for i, _ in enumerate(frames)]"
   ]
  },
  {
   "cell_type": "markdown",
   "metadata": {},
   "source": [
    "## Examine frames"
   ]
  },
  {
   "cell_type": "code",
   "execution_count": null,
   "metadata": {},
   "outputs": [],
   "source": [
    "fig_frames, ax_frames = plt.subplots(num=0, figsize=(10, 4), clear=True)\n",
    "art_frames, _, cb_frames = plot_frame(ax_frames, frames[0,0], light_ROIs=light_ROIs)\n",
    "\n",
    "ax_frames.set_title(\"Frame {}_{}\".format(event_labels[0], 0))\n",
    "\n",
    "\n",
    "def update_frame(scan_id, frameid, vmin, vmax):\n",
    "    event = next(event for event, sid in zip(frames, scan_ids) if sid == scan_id)\n",
    "    print(event.shape)\n",
    "    frame = event[frameid]\n",
    "    art_frames.set_data(frame)\n",
    "    event_label = next(label for label, sid in zip(event_labels, scan_ids) if sid == scan_id)\n",
    "    ax_frames.set_title(\"Frame {}_{}\".format(event_label, frameid))\n",
    "\n",
    "    art_frames.set_clim(vmin, vmax)\n",
    "    cb_frames.set_clim(vmin, vmax)\n",
    "    fig_frames.canvas.draw()\n",
    "    fig_frames.canvas.flush_events()\n",
    "\n",
    "scanid_widget = Dropdown(options=scan_ids)\n",
    "frameid_widget = IntSlider(min=0, max=frames.shape[1]-1)\n",
    "vmin_widget1 = FloatText()\n",
    "vmax_widget1 = FloatText()\n",
    "\n",
    "grab = interactive(update_frame, scan_id=scanid_widget, frameid=frameid_widget, vmin=vmin_widget1, vmax=vmax_widget1)\n",
    "\n",
    "display(VBox([fig_frames.canvas, HBox([scanid_widget, frameid_widget]), HBox([vmin_widget1, vmax_widget1])]))"
   ]
  },
  {
   "cell_type": "markdown",
   "metadata": {},
   "source": [
    "## Fit curvature"
   ]
  },
  {
   "cell_type": "code",
   "execution_count": null,
   "metadata": {},
   "outputs": [],
   "source": [
    "image = frames.mean(axis=(0,1))\n",
    "\n",
    "fig_curvature, ax_curvature = plt.subplots(num=1, clear=True)\n",
    "ROI = [slice(175, 1500, None), slice(1000, 1200, None)]\n",
    "BG = np.mean(frames[0,0][ROI][:600, :])\n",
    "\n",
    "photon_events = image_to_photon_events(image[ROI]-BG)\n",
    "x_centers, offsets = get_curvature_offsets(photon_events, bins=(2000, 13))\n",
    "elastic_y_value = estimate_elastic_pos(photon_events)\n",
    "\n",
    "curvature = fit_curvature(photon_events, np.array([0., 800.]), bins=(1000, 10))\n",
    "\n",
    "art, cb_art = plot_pcolor(ax_curvature, photon_events)\n",
    "ax_curvature.plot(x_centers, offsets+elastic_y_value, 'r*')\n",
    "ax_curvature.set_xlabel('x')\n",
    "ax_curvature.set_ylabel('y')\n",
    "cb_art.set_label('I')\n",
    "\n",
    "display(fig_curvature.canvas)\n",
    "\n",
    "print(\"Not a great example as curvature is {}\".format(curvature))"
   ]
  },
  {
   "cell_type": "code",
   "execution_count": null,
   "metadata": {},
   "outputs": [],
   "source": []
  }
 ],
 "metadata": {
  "kernelspec": {
   "display_name": "Python [conda env:main_new]",
   "language": "python",
   "name": "conda-env-main_new-py"
  },
  "language_info": {
   "codemirror_mode": {
    "name": "ipython",
    "version": 3
   },
   "file_extension": ".py",
   "mimetype": "text/x-python",
   "name": "python",
   "nbconvert_exporter": "python",
   "pygments_lexer": "ipython3",
   "version": "3.6.6"
  }
 },
 "nbformat": 4,
 "nbformat_minor": 2
}
