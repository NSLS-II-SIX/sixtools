{
 "cells": [
  {
   "cell_type": "code",
   "execution_count": null,
   "metadata": {},
   "outputs": [],
   "source": [
    "%matplotlib widget"
   ]
  },
  {
   "cell_type": "code",
   "execution_count": null,
   "metadata": {},
   "outputs": [],
   "source": [
    "import numpy as np\n",
    "import matplotlib.pyplot as plt\n",
    "from matplotlib.patches import Rectangle\n",
    "from mpl_toolkits.axes_grid1 import make_axes_locatable\n",
    "\n",
    "from databroker import DataBroker as db\n",
    "from sixtools.rixs_wrapper import make_scan, calibrate, interp_robust\n",
    "from sixtools.plotting_functions import plot_frame, plot_scan\n",
    "from sixtools.GUI_components import markers\n",
    "from rixs.plotting_functions import plot_pcolor\n",
    "\n",
    "from ipywidgets import interact, interactive, fixed, HBox, VBox,Label, Layout, FloatText, IntSlider, Dropdown, SelectMultiple\n",
    "from IPython.display import clear_output, display"
   ]
  },
  {
   "cell_type": "code",
   "execution_count": null,
   "metadata": {},
   "outputs": [],
   "source": [
    "%%capture\n",
    "fig_dark = plt.figure(num=0, figsize=(10, 4), clear=True)\n",
    "fig_frames = plt.figure(num=1, figsize=(10, 4), clear=True)\n",
    "fig_scan = plt.figure(num=2, clear=True)\n",
    "fig_cal = plt.figure(num=3, clear=True)\n",
    "fig_map = plt.figure(num=4, clear=True)"
   ]
  },
  {
   "cell_type": "markdown",
   "metadata": {},
   "source": [
    "## Define and execute processing"
   ]
  },
  {
   "cell_type": "code",
   "execution_count": null,
   "metadata": {},
   "outputs": [],
   "source": [
    "process_dicts = {'low_2theta': {'light_ROI': [slice(175, 1500), slice(4130, 4700)],\n",
    "                                'curvature': np.array([0., 0., 0.]),\n",
    "                                'bins': None,\n",
    "                                'background': None},\n",
    "                 'high_2theta': {'light_ROI': [slice(175, 1500), slice(1153, 1531)],\n",
    "                                 'curvature': np.array([0., 0., 0.]),\n",
    "                                 'bins': None,\n",
    "                                 'background': None}\n",
    "                }\n",
    "\n",
    "light_ROIs = [d['light_ROI'] for _, d in process_dicts.items()]\n",
    "\n",
    "# ids\n",
    "scan_ids = list(range(22322, 22341+1))\n",
    "dark_scan_ids = [22343, 22370]\n",
    "scanned_motor = 'pgm_en'\n",
    "\n",
    "# Process darks\n",
    "dark_headers = db[dark_scan_ids]\n",
    "dark_frame = sum(np.mean(ImageStack, axis=0) for h in dark_headers\n",
    "                 for ImageStack in h.data('rixscam_image'))\n",
    "dark_frame = dark_frame/len(dark_headers)\n",
    "\n",
    "# Process data\n",
    "frames = np.array([ImageStack for header in db[scan_ids] for ImageStack in header.data('rixscam_image')])\n",
    "scan = make_scan(db[scan_ids], **process_dicts['high_2theta'])\n",
    "\n",
    "# extraction of motor_values is clumsy now\n",
    "before_after_values = db.get_table(db[scan_ids], stream_name=\"baseline\", fields=[scanned_motor])[scanned_motor]\n",
    "motor_values = (before_after_values[before_after_values.index == 1].values\n",
    "                + before_after_values[before_after_values.index == 2].values)/2\n",
    "\n",
    "event_labels = [\"#{} {}={:.1f}\".format(scan_id, scanned_motor, motor)\n",
    "                for scan_id, motor in zip(scan_ids, motor_values)]"
   ]
  },
  {
   "cell_type": "markdown",
   "metadata": {},
   "source": [
    "## View dark image"
   ]
  },
  {
   "cell_type": "code",
   "execution_count": null,
   "metadata": {},
   "outputs": [],
   "source": [
    "fig_dark = plt.figure(num=0, figsize=(10, 4), clear=True)\n",
    "ax_dark = fig_dark.add_subplot(111)\n",
    "\n",
    "art_dark, _, cb_dark = plot_frame(ax_dark, dark_frame, light_ROIs=light_ROIs)\n",
    "\n",
    "ax_dark.set_title('Dark frame')\n",
    "\n",
    "def update_dark(vmin, vmax):\n",
    "    art_dark.set_clim(vmin, vmax)\n",
    "    cb_dark.set_clim(vmin, vmax)\n",
    "    fig_dark.canvas.draw()\n",
    "    fig_dark.canvas.flush_events()\n",
    "    \n",
    "vmin_widget0 = FloatText(description='vmin')\n",
    "vmax_widget0 = FloatText(description='vmax')\n",
    "\n",
    "interactive(update_dark, vmin=vmin_widget0, vmax=vmax_widget0)\n",
    "display(VBox([fig_dark.canvas, HBox([vmin_widget0, vmax_widget0])]))"
   ]
  },
  {
   "cell_type": "markdown",
   "metadata": {},
   "source": [
    "## Examine frames"
   ]
  },
  {
   "cell_type": "code",
   "execution_count": null,
   "metadata": {},
   "outputs": [],
   "source": [
    "fig_frames = plt.figure(num=1, figsize=(10, 4), clear=True)\n",
    "ax_frames = fig_frames.add_subplot(111)\n",
    "\n",
    "art_frames, _, cb_frames = plot_frame(ax_frames, frames[0,0], light_ROIs=light_ROIs)\n",
    "\n",
    "ax_frames.set_title(\"Frame {}_{}\".format(event_labels[0], 0))\n",
    "\n",
    "\n",
    "def update_frame(scan_id, frameid, vmin, vmax):\n",
    "    event = next(event for event, sid in zip(frames, scan_ids) if sid == scan_id)\n",
    "    print(event.shape)\n",
    "    frame = event[frameid]\n",
    "    art_frames.set_data(frame)\n",
    "    event_label = next(label for label, sid in zip(event_labels, scan_ids) if sid == scan_id)\n",
    "    ax_frames.set_title(\"Frame {}_{}\".format(event_label, frameid))\n",
    "\n",
    "    art_frames.set_clim(vmin, vmax)\n",
    "    cb_frames.set_clim(vmin, vmax)\n",
    "    fig_frames.canvas.draw()\n",
    "    fig_frames.canvas.flush_events()\n",
    "\n",
    "scanid_widget = Dropdown(options=scan_ids)\n",
    "frameid_widget = IntSlider(min=0, max=frames.shape[1]-1)\n",
    "vmin_widget1 = FloatText()\n",
    "vmax_widget1 = FloatText()\n",
    "\n",
    "grab = interactive(update_frame, scan_id=scanid_widget, frameid=frameid_widget, vmin=vmin_widget1, vmax=vmax_widget1)\n",
    "\n",
    "display(VBox([fig_frames.canvas, HBox([scanid_widget, frameid_widget]), HBox([vmin_widget1, vmax_widget1])]))"
   ]
  },
  {
   "cell_type": "markdown",
   "metadata": {},
   "source": [
    "## Plot spectra"
   ]
  },
  {
   "cell_type": "code",
   "execution_count": null,
   "metadata": {},
   "outputs": [],
   "source": [
    "fig_scan = plt.figure(num=2, clear=True)\n",
    "ax_scan = fig_scan.add_subplot(111)\n",
    "\n",
    "artists_scan = []\n",
    "for event, event_label in zip(scan, event_labels):\n",
    "    for i, S in enumerate(event):\n",
    "        art = ax_scan.plot(S[:, 0], S[:, 1], marker=next(markers),\n",
    "                           markersize=4,\n",
    "                           label=\"{}_{}\".format(event_label, i))\n",
    "        artists_scan.append(art)\n",
    "\n",
    "ax_scan.set_xlabel('pixels')\n",
    "ax_scan.set_ylabel('I')\n",
    "ax_scan.set_title('Raw spectra')\n",
    "ax_scan.legend(fontsize=7)\n",
    "\n",
    "def update_scan(choose_labels):\n",
    "    for art in ax_scan.lines + ax_scan.collections:\n",
    "        art.remove()\n",
    "    for event, event_label, art in zip(scan, event_labels, artists_scan):\n",
    "        for i, S in enumerate(event):\n",
    "            if event_label in choose_labels:\n",
    "                ax_scan.plot(S[:, 0], S[:, 1], marker=art[0].get_marker(),\n",
    "                                   markersize=4, color=art[0].get_color(),\n",
    "                                   label=\"{}_{}\".format(event_label, i))\n",
    "    ax_scan.legend(fontsize=7)\n",
    "    fig_scan.canvas.draw()\n",
    "    \n",
    "\n",
    "choose_label_widget0 = SelectMultiple(options=event_labels, value=event_labels, description=' ', rows=15)\n",
    "interactive(update_scan, choose_labels=choose_label_widget0)\n",
    "\n",
    "display(HBox([VBox([Label('Choose spectra'), choose_label_widget0], layout=Layout(align_items='center')),\n",
    "              fig_scan.canvas], layout=Layout(align_items='center')))"
   ]
  },
  {
   "cell_type": "markdown",
   "metadata": {},
   "source": [
    "## Calibrate spectra"
   ]
  },
  {
   "cell_type": "code",
   "execution_count": null,
   "metadata": {},
   "outputs": [],
   "source": [
    "elastics = np.array([[S[np.argmax(S[:,1]),0] for S in event]\n",
    "                     for event in scan])\n",
    "\n",
    "table = db.get_table(db[scan_ids], stream_name='baseline')\n",
    "ring = table['ring_curr']\n",
    "I0s = (ring[ring.index == 1].values + ring[ring.index == 2].values)/2\n",
    "\n",
    "cal_scan = calibrate(scan, elastics=elastics, energy_per_pixel=-0.018, I0s=I0s[:,np.newaxis])"
   ]
  },
  {
   "cell_type": "markdown",
   "metadata": {},
   "source": [
    "## Plot calibrated spectra"
   ]
  },
  {
   "cell_type": "code",
   "execution_count": null,
   "metadata": {},
   "outputs": [],
   "source": [
    "fig_cal = plt.figure(num=3, clear=True)\n",
    "ax_cal = fig_cal.add_subplot(111)\n",
    "\n",
    "artists_cal = []\n",
    "for event, event_label in zip(cal_scan, event_labels):\n",
    "    for i, S in enumerate(event):\n",
    "        art = ax_cal.plot(S[:, 0], S[:, 1], marker=next(markers),\n",
    "                           markersize=4,\n",
    "                           label=\"{}_{}\".format(event_label, i))\n",
    "        artists_cal.append(art)\n",
    "\n",
    "ax_cal.set_xlabel('pixels')\n",
    "ax_cal.set_ylabel('I')\n",
    "ax_cal.set_title('Calibrated spectra')\n",
    "ax_cal.legend(fontsize=7)\n",
    "\n",
    "def update_cal(choose_labels):\n",
    "    for art in ax_cal.lines + ax_cal.collections:\n",
    "        art.remove()\n",
    "    for event, event_label, art in zip(cal_scan, event_labels, artists_cal):\n",
    "        for i, S in enumerate(event):\n",
    "            if event_label in choose_labels:\n",
    "                ax_cal.plot(S[:, 0], S[:, 1], marker=art[0].get_marker(),\n",
    "                                   markersize=4, color=art[0].get_color(),\n",
    "                                   label=\"{}_{}\".format(event_label, i))\n",
    "    ax_cal.legend(fontsize=7)\n",
    "    fig_cal.canvas.draw()\n",
    "    \n",
    "\n",
    "choose_label_widget1 = SelectMultiple(options=event_labels, value=event_labels, description=' ', rows=15)\n",
    "interactive(update_cal, choose_labels=choose_label_widget1)\n",
    "\n",
    "display(HBox([VBox([Label('Choose spectra'), choose_label_widget1], layout=Layout(align_items='center')),\n",
    "              fig_cal.canvas], layout=Layout(align_items='center')))"
   ]
  },
  {
   "cell_type": "markdown",
   "metadata": {},
   "source": [
    "## Construct map"
   ]
  },
  {
   "cell_type": "code",
   "execution_count": null,
   "metadata": {},
   "outputs": [],
   "source": [
    "energies = motor_values\n",
    "energy_loss = np.linspace(-0.5, 10, 1000)\n",
    "\n",
    "RIXSmap = np.array([interp_robust(energy_loss, S[:,0], S[:,1])\n",
    "                    for S in cal_scan.mean(1)])"
   ]
  },
  {
   "cell_type": "markdown",
   "metadata": {},
   "source": [
    "## Plot map"
   ]
  },
  {
   "cell_type": "code",
   "execution_count": null,
   "metadata": {},
   "outputs": [],
   "source": [
    "fig_map = plt.figure(num=4, clear=True)\n",
    "ax_map = fig_map.add_subplot(111)\n",
    "divider = make_axes_locatable(ax_map)\n",
    "cax_map = divider.append_axes(\"right\", size=\"2%\", pad=0.1)\n",
    "\n",
    "art_map = ax_map.pcolor(energy_loss, energies, RIXSmap, vmin=np.nanpercentile(RIXSmap, 1),\n",
    "                    vmax=np.nanpercentile(RIXSmap, 99))\n",
    "\n",
    "cb_map = plt.colorbar(art_map, cax=cax_map)\n",
    "cb_map.set_label('I')\n",
    "ax_map.set_xlabel('Energy loss')\n",
    "ax_map.set_ylabel('Incident energy (eV)')\n",
    "\n",
    "def update_map(vmin, vmax):\n",
    "    art_map.set_clim(vmin, vmax)\n",
    "    cb_map.set_clim(vmin, vmax)\n",
    "    fig_map.canvas.draw()\n",
    "    fig_map.canvas.flush_events()\n",
    "\n",
    "vin_widget3 = FloatText(value=np.nanpercentile(RIXSmap, 1))\n",
    "vmax_widget3 = FloatText(value=np.nanpercentile(RIXSmap, 99))\n",
    "\n",
    "grab = interactive(update_map, vmin=vin_widget3, vmax=vmax_widget3)\n",
    "\n",
    "display(fig_map.canvas, vin_widget3, vmax_widget3)"
   ]
  }
 ],
 "metadata": {
  "kernelspec": {
   "display_name": "Python (mark_six)",
   "language": "python",
   "name": "mark_six"
  },
  "language_info": {
   "codemirror_mode": {
    "name": "ipython",
    "version": 3
   },
   "file_extension": ".py",
   "mimetype": "text/x-python",
   "name": "python",
   "nbconvert_exporter": "python",
   "pygments_lexer": "ipython3",
   "version": "3.6.5"
  }
 },
 "nbformat": 4,
 "nbformat_minor": 2
}
