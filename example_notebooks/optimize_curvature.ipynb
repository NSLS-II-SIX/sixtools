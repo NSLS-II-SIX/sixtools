{
 "cells": [
  {
   "cell_type": "code",
   "execution_count": null,
   "metadata": {},
   "outputs": [],
   "source": [
    "import numpy as np\n",
    "import pandas as pd\n",
    "import matplotlib.pyplot as plt\n",
    "from databroker import DataBroker as db\n",
    "from sixtools.rixs_wrapper import make_scan, centroids_to_spectrum, get_rixs\n",
    "from rixs.process2d import apply_curvature, optimize_curvature\n",
    "from IPython.display import clear_output, display\n",
    "\n",
    "%matplotlib widget"
   ]
  },
  {
   "cell_type": "markdown",
   "metadata": {},
   "source": [
    "## Define and execute processing"
   ]
  },
  {
   "cell_type": "code",
   "execution_count": null,
   "metadata": {},
   "outputs": [],
   "source": [
    "scan_id = 51402\n",
    "process_dicts_high_2theta = {'light_ROI': [800, 1230, 175, 1500],\n",
    "                                 'curvature': np.array([0., 0., 0.]),\n",
    "                                 'bins': 0.5,\n",
    "                                 'background': None}\n",
    "\n",
    "table = pd.concat(t for event in db[scan_id].data('rixscam_centroids') for t in event)\n",
    "light_ROI = process_dicts_high_2theta['light_ROI']\n",
    "choose = np.logical_and.reduce((table['x_eta'] >= light_ROI[0],\n",
    "                                    table['x_eta'] < light_ROI[1],\n",
    "                                    table['y_eta'] >= light_ROI[2],\n",
    "                                    table['y_eta'] < light_ROI[3],\n",
    "                                    table['sum_regions'] >= 0.1,\n",
    "                                    table['sum_regions'] < np.inf))\n",
    "photon_events = table[choose][['x_eta', 'y_eta', 'sum_regions']].values"
   ]
  },
  {
   "cell_type": "code",
   "execution_count": null,
   "metadata": {},
   "outputs": [],
   "source": [
    "curvature_guess = process_dicts_high_2theta['curvature']\n",
    "bins = process_dicts_high_2theta['bins']\n",
    "curvature = optimize_curvature(photon_events, curvature_guess, bins)"
   ]
  },
  {
   "cell_type": "code",
   "execution_count": null,
   "metadata": {},
   "outputs": [],
   "source": [
    "fig_spectrum, ax_spectrum = plt.subplots(num=0, clear=True)\n",
    "\n",
    "original_spectrum = apply_curvature(photon_events, curvature_guess, bins)\n",
    "optimized_spectrum = apply_curvature(photon_events, curvature, bins)\n",
    "\n",
    "ax_spectrum.plot(original_spectrum[:,0], original_spectrum[:,1], '.-', label='Original')\n",
    "ax_spectrum.plot(optimized_spectrum[:,0], optimized_spectrum[:,1], '.-', label='Optimized')\n",
    "ax_spectrum.set_xlabel('Pixels')\n",
    "ax_spectrum.set_ylabel('Intensity')\n",
    "ax_spectrum.legend()\n",
    "ax_spectrum.set_xlim([1280, 1320])\n",
    "#display(fig_spectrum)"
   ]
  }
 ],
 "metadata": {
  "kernelspec": {
   "display_name": "MPMD_SIX_from_2018-3.2",
   "language": "python",
   "name": "myenv"
  },
  "language_info": {
   "codemirror_mode": {
    "name": "ipython",
    "version": 3
   },
   "file_extension": ".py",
   "mimetype": "text/x-python",
   "name": "python",
   "nbconvert_exporter": "python",
   "pygments_lexer": "ipython3",
   "version": "3.6.6"
  }
 },
 "nbformat": 4,
 "nbformat_minor": 2
}
