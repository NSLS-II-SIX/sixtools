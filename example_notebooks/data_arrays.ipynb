{
 "cells": [
  {
   "cell_type": "code",
   "execution_count": 7,
   "metadata": {},
   "outputs": [],
   "source": [
    "import numpy as np\n",
    "import pandas as pd\n",
    "import xarray as xr\n",
    "import matplotlib.pyplot as plt\n",
    "from databroker import DataBroker as db\n",
    "from sixtools.rixs_wrapper import make_scan, centroids_to_spectrum, make_dataset\n",
    "from sixtools.tests.test_sixtools import make_test_dataset\n",
    "from IPython.display import clear_output, display\n",
    "\n",
    "%matplotlib widget"
   ]
  },
  {
   "cell_type": "code",
   "execution_count": 43,
   "metadata": {},
   "outputs": [],
   "source": [
    "%%capture\n",
    "fig0, ax0 = plt.subplots(num=0, clear=True)\n",
    "fig1, ax1 = plt.subplots(num=1, clear=True)\n",
    "fig2, ax2 = plt.subplots(num=2, clear=True)\n",
    "fig3, ax3 = plt.subplots(num=3, clear=True)"
   ]
  },
  {
   "cell_type": "markdown",
   "metadata": {},
   "source": [
    "## Define and execute processing"
   ]
  },
  {
   "cell_type": "code",
   "execution_count": 2,
   "metadata": {},
   "outputs": [],
   "source": [
    "scan_id = 51402\n",
    "process_dicts_high_2theta = {'light_ROI': [800, 1230, 175, 1500],\n",
    "                                 'curvature': np.array([0., 0., 0.]),\n",
    "                                 'bins': 0.5,\n",
    "                                 'background': None}\n",
    "\n",
    "ds = make_dataset(db[scan_id], **process_dicts_high_2theta)"
   ]
  },
  {
   "cell_type": "markdown",
   "metadata": {},
   "source": [
    "## Plot it"
   ]
  },
  {
   "cell_type": "code",
   "execution_count": 12,
   "metadata": {},
   "outputs": [
    {
     "data": {
      "application/vnd.jupyter.widget-view+json": {
       "model_id": "0f12a51c3bf44a9ab6ae85719d4c64be",
       "version_major": 2,
       "version_minor": 0
      },
      "text/plain": [
       "FigureCanvasNbAgg()"
      ]
     },
     "metadata": {},
     "output_type": "display_data"
    }
   ],
   "source": [
    "fig0, ax0 = plt.subplots(num=0, clear=True)\n",
    "\n",
    "colors = iter(plt.cm.viridis(np.linspace(0, 1, ds['intensity'].sum('y').size)))\n",
    "for event_val, event in ds.groupby(ds.attrs['event_name']):\n",
    "    for frame_val, frame in event.groupby('frame'):\n",
    "        ax0.errorbar(frame['pixel'].values, frame['intensity'].values, frame['error'].values, color=next(colors),\n",
    "                    fmt='.-',\n",
    "                label=\"{}={} #{}\".format(ds.attrs['event_name'], event_val, frame_val))\n",
    "\n",
    "ax0.set_xlabel('pixel')\n",
    "ax0.set_ylabel('I')\n",
    "display(fig0.canvas)"
   ]
  },
  {
   "cell_type": "markdown",
   "metadata": {},
   "source": [
    "# Make fake spectrum"
   ]
  },
  {
   "cell_type": "code",
   "execution_count": 13,
   "metadata": {},
   "outputs": [
    {
     "data": {
      "application/vnd.jupyter.widget-view+json": {
       "model_id": "3346e754f8254d80853fe889fbb4672c",
       "version_major": 2,
       "version_minor": 0
      },
      "text/plain": [
       "FigureCanvasNbAgg()"
      ]
     },
     "metadata": {},
     "output_type": "display_data"
    }
   ],
   "source": [
    "ds_fake = make_test_dataset()\n",
    "\n",
    "fig1, ax1 = plt.subplots(num=1, clear=True)\n",
    "\n",
    "colors = iter(plt.cm.viridis(np.linspace(0, 1, ds_fake['intensity'].sum('y').size)))\n",
    "for event_val, event in ds_fake.groupby(ds_fake.attrs['event_name']):\n",
    "    for frame_val, frame in event.groupby('frame'):\n",
    "        ax1.errorbar(frame['pixel'].values, frame['intensity'].values, frame['error'].values, color=next(colors),\n",
    "                    fmt='.-',\n",
    "                label=\"{}={} #{}\".format(ds_fake.attrs['event_name'], event_val, frame_val))\n",
    "\n",
    "ax1.set_xlabel('pixel')\n",
    "ax1.set_ylabel('I')\n",
    "display(fig1.canvas)"
   ]
  },
  {
   "cell_type": "markdown",
   "metadata": {},
   "source": [
    "## Offset values based on known curvature"
   ]
  },
  {
   "cell_type": "code",
   "execution_count": 19,
   "metadata": {},
   "outputs": [
    {
     "data": {
      "application/vnd.jupyter.widget-view+json": {
       "model_id": "2006b1957b7c46429a94b71f17fa8807",
       "version_major": 2,
       "version_minor": 0
      },
      "text/plain": [
       "FigureCanvasNbAgg()"
      ]
     },
     "metadata": {},
     "output_type": "display_data"
    }
   ],
   "source": [
    "ds_fake = make_test_dataset()\n",
    "center_offsets = xr.DataArray(ds_fake.attrs['centers']-500, dims='centers')\n",
    "\n",
    "ds_fake_offset = ds_fake.copy(deep=True)\n",
    "ds_fake_offset['pixel'] = ds_fake['pixel'] - center_offsets\n",
    "\n",
    "fig2, ax2 = plt.subplots(num=2, clear=True)\n",
    "\n",
    "colors = iter(plt.cm.viridis(np.linspace(0, 1, ds_fake_offset['intensity'].sum('y').size)))\n",
    "for event_val, event in ds_fake_offset.groupby(ds_fake_offset.attrs['event_name']):\n",
    "    for frame_val, frame in event.groupby('frame'):\n",
    "        ax2.errorbar(frame['pixel'].values, frame['intensity'].values, frame['error'].values, color=next(colors),\n",
    "                    fmt='.-',\n",
    "                label=\"{}={} #{}\".format(ds_fake.attrs['event_name'], event_val, frame_val))\n",
    "\n",
    "ax2.set_xlabel('pixel')\n",
    "ax2.set_ylabel('I')\n",
    "display(fig2.canvas)"
   ]
  },
  {
   "cell_type": "code",
   "execution_count": 50,
   "metadata": {},
   "outputs": [
    {
     "data": {
      "application/vnd.jupyter.widget-view+json": {
       "model_id": "6a8f73e617da4341be3531acbddcccb6",
       "version_major": 2,
       "version_minor": 0
      },
      "text/plain": [
       "FigureCanvasNbAgg()"
      ]
     },
     "metadata": {},
     "output_type": "display_data"
    }
   ],
   "source": [
    "bins = ds_fake_offset.attrs['bins']\n",
    "y = ds_fake_offset.attrs['y']\n",
    "I, _ = np.histogram(ds_fake_offset['pixel'].values, bins=bins, weights=ds_fake_offset['intensity'])\n",
    "\n",
    "fig3, ax3 = plt.subplots(num=3, clear=True)\n",
    "ax3.plot(y, I)\n",
    "\n",
    "display(fig3.canvas)"
   ]
  }
 ],
 "metadata": {
  "kernelspec": {
   "display_name": "MPMD_SIX_from_2018-3.2",
   "language": "python",
   "name": "myenv"
  },
  "language_info": {
   "codemirror_mode": {
    "name": "ipython",
    "version": 3
   },
   "file_extension": ".py",
   "mimetype": "text/x-python",
   "name": "python",
   "nbconvert_exporter": "python",
   "pygments_lexer": "ipython3",
   "version": "3.6.6"
  }
 },
 "nbformat": 4,
 "nbformat_minor": 2
}
