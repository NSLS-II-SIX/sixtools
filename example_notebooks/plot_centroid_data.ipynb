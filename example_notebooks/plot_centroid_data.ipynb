{
 "cells": [
  {
   "cell_type": "code",
   "execution_count": null,
   "metadata": {},
   "outputs": [],
   "source": [
    "%matplotlib widget"
   ]
  },
  {
   "cell_type": "code",
   "execution_count": null,
   "metadata": {},
   "outputs": [],
   "source": [
    "import numpy as np\n",
    "import pandas as pd\n",
    "import matplotlib.pyplot as plt\n",
    "from databroker import DataBroker as db\n",
    "from sixtools.rixs_wrapper import make_scan, centroids_to_spectrum, get_rixs\n",
    "\n",
    "from IPython.display import clear_output, display\n",
    "%matplotlib widget"
   ]
  },
  {
   "cell_type": "code",
   "execution_count": null,
   "metadata": {},
   "outputs": [],
   "source": [
    "%%capture\n",
    "fig_scan = plt.figure(num=0, clear=True)"
   ]
  },
  {
   "cell_type": "markdown",
   "metadata": {},
   "source": [
    "## Define and execute processing"
   ]
  },
  {
   "cell_type": "code",
   "execution_count": null,
   "metadata": {},
   "outputs": [],
   "source": [
    "scan_ids = 51227\n",
    "#sum_image = sum(im for event in db[51227].data('rixscam_image') for im in event)\n",
    "process_dicts = {'low_2theta': {'light_ROI': [4130, 4700, 175, 1500],\n",
    "                                'curvature': np.array([0., 0., 0.]),\n",
    "                                'bins': 1,\n",
    "                                'background': None},\n",
    "                 'high_2theta': {'light_ROI': [800, 1230, 175, 1500],\n",
    "                                 'curvature': np.array([0., 0., 0.]),\n",
    "                                 'bins': 1,\n",
    "                                 'background': None}\n",
    "                }\n",
    "\n",
    "\n",
    "scan_images = make_scan(db[51227], detector='rixscam_image', **process_dicts['high_2theta'])\n",
    "scan_centroids = make_scan(db[51227], detector='rixscam_centroids', **process_dicts['high_2theta'])"
   ]
  },
  {
   "cell_type": "markdown",
   "metadata": {},
   "source": [
    "## Plot scans"
   ]
  },
  {
   "cell_type": "code",
   "execution_count": null,
   "metadata": {},
   "outputs": [],
   "source": [
    "fig, ax = plt.subplots()\n",
    "S_images = scan_images.mean(axis=(0,1))\n",
    "S_cenroids = scan_centroids.mean(axis=(0,1))\n",
    "ax.plot(S_images[:,0], S_images[:,1] - S_images[0,1], '.-', label='images')\n",
    "ax.plot(S_cenroids[:,0], S_cenroids[:,1], '.-', label='centroids')\n",
    "#ax.plot(spec[:,0], (spec[:,1]- spec[0,1])/10000, label='simple')\n",
    "\n",
    "ax.legend()"
   ]
  }
 ],
 "metadata": {
  "kernelspec": {
   "display_name": "MPMD_SIX_from_2018-3.2",
   "language": "python",
   "name": "myenv"
  },
  "language_info": {
   "codemirror_mode": {
    "name": "ipython",
    "version": 3
   },
   "file_extension": ".py",
   "mimetype": "text/x-python",
   "name": "python",
   "nbconvert_exporter": "python",
   "pygments_lexer": "ipython3",
   "version": "3.6.6"
  }
 },
 "nbformat": 4,
 "nbformat_minor": 2
}
