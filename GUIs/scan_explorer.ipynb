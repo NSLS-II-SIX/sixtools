{
 "cells": [
  {
   "cell_type": "code",
   "execution_count": null,
   "metadata": {},
   "outputs": [],
   "source": [
    "import matplotlib.pyplot as plt\n",
    "import ipywidgets\n",
    "from IPython.display import display, clear_output\n",
    "import sixtools.GUI_components as GUI \n",
    "\n",
    "%matplotlib widget"
   ]
  },
  {
   "cell_type": "code",
   "execution_count": null,
   "metadata": {},
   "outputs": [],
   "source": [
    "%matplotlib widget\n",
    "\n",
    "plot_output = ipywidgets.Output()\n",
    "\n",
    "def update_plot(change):\n",
    "    with plot_output:\n",
    "        fig, ax = plt.subplots(num=999)\n",
    "    return fig, ax\n",
    "\n",
    "fig, ax = update_plot(None)\n",
    "\n",
    "buttons  = ipywidgets.HBox([GUI.plot_button, GUI.clear_button])\n",
    "\n",
    "controls_widgets = ipywidgets.VBox([GUI.db_search_widget, GUI.select_scan_id_widget,\n",
    "                                    GUI.select_x_widget, GUI.select_y_widget,\n",
    "                                    GUI.use_mon_widget, GUI.select_mon_widget, buttons])\n",
    "\n",
    "display(ipywidgets.VBox([ipywidgets.HBox([controls_widgets, plot_output],\n",
    "                                         layout=ipywidgets.Layout(align_items=\"center\")),\n",
    "                         GUI.baseline_button, GUI.baseline_display]))"
   ]
  }
 ],
 "metadata": {
  "kernelspec": {
   "display_name": "Python (mark_six)",
   "language": "python",
   "name": "mark_six"
  },
  "language_info": {
   "codemirror_mode": {
    "name": "ipython",
    "version": 3
   },
   "file_extension": ".py",
   "mimetype": "text/x-python",
   "name": "python",
   "nbconvert_exporter": "python",
   "pygments_lexer": "ipython3",
   "version": "3.6.5"
  },
  "widgets": {
   "state": {
    "05c5be985e9e48cf9379149f8c41cf45": {
     "views": [
      {
       "cell_index": 4
      }
     ]
    },
    "0ee3aff37b774c359ca4953b111d0227": {
     "views": [
      {
       "cell_index": 2
      }
     ]
    },
    "658dbcafaecf472d8476d6e0798163c6": {
     "views": [
      {
       "cell_index": 3
      }
     ]
    },
    "7e5f6913fc7947f1bad90f3ddec3707a": {
     "views": [
      {
       "cell_index": 3
      }
     ]
    },
    "88be16a3d5974520875abebb798ab003": {
     "views": [
      {
       "cell_index": 3
      }
     ]
    },
    "a638f3f6741b4ed2ab8b8ea08c29b760": {
     "views": [
      {
       "cell_index": 2
      }
     ]
    },
    "d40ec661f145466a97cd55e737c3f13c": {
     "views": [
      {
       "cell_index": 2
      }
     ]
    }
   },
   "version": "1.2.0"
  }
 },
 "nbformat": 4,
 "nbformat_minor": 2
}
