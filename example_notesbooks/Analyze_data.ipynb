{
 "cells": [
  {
   "cell_type": "code",
   "execution_count": null,
   "metadata": {},
   "outputs": [],
   "source": [
    "import numpy as np\n",
    "import matplotlib.pyplot as plt\n",
    "from matplotlib.patches import Rectangle\n",
    "from mpl_toolkits.axes_grid1 import make_axes_locatable\n",
    "\n",
    "from databroker import DataBroker as db\n",
    "from sixtools.rixs_wrapper import make_scan, calibrate, interp_robust\n",
    "from sixtools.plotting_functions import plot_frame, plot_scan\n",
    "from rixs.plotting_functions import plot_pcolor\n",
    "\n",
    "import ipywidgets\n",
    "from ipywidgets import interact, interactive, fixed\n",
    "from IPython.display import clear_output, display\n",
    "\n",
    "%matplotlib widget"
   ]
  },
  {
   "cell_type": "markdown",
   "metadata": {},
   "source": [
    "## Define plot figures"
   ]
  },
  {
   "cell_type": "code",
   "execution_count": null,
   "metadata": {},
   "outputs": [],
   "source": [
    "%matplotlib widget\n",
    "\n",
    "def update_plot(num, plot_output, image=False, **kwargs):\n",
    "    with plot_output:\n",
    "        fig, ax = plt.subplots(num=num, **kwargs)\n",
    "        if image is False:\n",
    "            return fig, ax\n",
    "        elif image is True:\n",
    "            divider = make_axes_locatable(ax)\n",
    "            cax = divider.append_axes(\"right\", size=\"2%\", pad=0.1)\n",
    "            cax.set_xticks([])\n",
    "            cax.set_yticks([])\n",
    "            return fig, ax, cax\n",
    "\n",
    "plot_output_dark = ipywidgets.Output()\n",
    "fig_dark, ax_dark, cax_dark = update_plot(0, plot_output_dark, image=True, figsize=(10, 4))\n",
    "\n",
    "plot_output_frames = ipywidgets.Output()\n",
    "fig_frames, ax_frames, cax_frames = update_plot(1, plot_output_frames, image=True, figsize=(10, 4))\n",
    "\n",
    "plot_output_scan = ipywidgets.Output()\n",
    "fig_scan, ax_scan = update_plot(2, plot_output_scan)\n",
    "\n",
    "plot_output_cal_scan = ipywidgets.Output()\n",
    "fig_cal_scan, ax_cal_scan = update_plot(3, plot_output_cal_scan)\n",
    "\n",
    "plot_output_map = ipywidgets.Output()\n",
    "fig_map, ax_map, cax_map = update_plot(4, plot_output_map, image=True)"
   ]
  },
  {
   "cell_type": "markdown",
   "metadata": {},
   "source": [
    "## Define processing"
   ]
  },
  {
   "cell_type": "code",
   "execution_count": null,
   "metadata": {},
   "outputs": [],
   "source": [
    "process_dicts = {'low_2theta': {'light_ROI': [slice(175, 1500), slice(4130, 4700)],\n",
    "                                'curvature': np.array([0., 0., 0.]),\n",
    "                                'bins': None,\n",
    "                                'background': None},\n",
    "                 'high_2theta': {'light_ROI': [slice(175, 1500), slice(1153, 1531)],\n",
    "                                 'curvature': np.array([0., 0., 0.]),\n",
    "                                 'bins': None,\n",
    "                                 'background': None}\n",
    "                }\n",
    "\n",
    "light_ROIs = [d['light_ROI'] for _, d in process_dicts.items()]\n",
    "\n",
    "raise Exception((\"Ask Mark for the scan_ids and dark_scan_ids.\"\n",
    "                 \" As we have minimal publicly sharable data at the moment.\"))"
   ]
  },
  {
   "cell_type": "markdown",
   "metadata": {},
   "source": [
    "## Make dark images"
   ]
  },
  {
   "cell_type": "code",
   "execution_count": null,
   "metadata": {},
   "outputs": [],
   "source": [
    "\n",
    "dark_headers = db[dark_scan_ids]\n",
    "\n",
    "dark_frame = sum(np.mean(ImageStack, axis=0) for h in dark_headers\n",
    "                 for ImageStack in h.data('rixscam_image'))\n",
    "\n",
    "dark_frame = dark_frame/len(dark_headers)\n",
    "\n",
    "_ = plot_frame(ax_dark, dark_frame, light_ROIs)\n",
    "ax_dark.set_title('Dark Frame')\n",
    "\n",
    "process_dicts['high_2theta']['background'] = dark_frame\n",
    "process_dicts['low_2theta']['background'] = dark_frame\n",
    "\n",
    "display(plot_output_dark)"
   ]
  },
  {
   "cell_type": "markdown",
   "metadata": {},
   "source": [
    "## Examine frames"
   ]
  },
  {
   "cell_type": "code",
   "execution_count": null,
   "metadata": {},
   "outputs": [],
   "source": [
    "def get_plot_frame(ax, scan_id, light_ROIs=[], cax=None, **kwargs):\n",
    "    ax.clear()\n",
    "    for a in ax.get_children():\n",
    "        try:\n",
    "            a.clear()\n",
    "        except AttributeError:\n",
    "            pass\n",
    "    header = db[scan_id]\n",
    "    frame = np.mean(next(header.data('rixscam_image')), axis=0)\n",
    "    art, cax, cb = plot_frame(ax, frame, light_ROIs=light_ROIs, cax=cax, **kwargs)\n",
    "    ax.set_title('Scan no {}'.format(scan_id))\n",
    "\n",
    "\n",
    "scanid_widget = ipywidgets.Dropdown(options=scan_ids)\n",
    "vin_widget = ipywidgets.FloatText(value=200.)\n",
    "vmax_widget = ipywidgets.FloatText(value=260.)\n",
    "\n",
    "grab = interactive(get_plot_frame, ax=fixed(ax_frames), scan_id=scanid_widget, light_ROIs=fixed(light_ROIs),\n",
    "         cax=fixed(cax_frames),\n",
    "         vmin=vin_widget, vmax=vmax_widget)\n",
    "\n",
    "\n",
    "display(plot_output_frames, scanid_widget, vin_widget, vmax_widget)"
   ]
  },
  {
   "cell_type": "markdown",
   "metadata": {},
   "source": [
    "## Make spectra"
   ]
  },
  {
   "cell_type": "code",
   "execution_count": null,
   "metadata": {},
   "outputs": [],
   "source": [
    "scan = make_scan(db[scan_ids], **process_dicts['high_2theta'])"
   ]
  },
  {
   "cell_type": "markdown",
   "metadata": {},
   "source": [
    "## Retrieve energies\n",
    "Note that this was not a formal scan, so this is somewhat inelegant now"
   ]
  },
  {
   "cell_type": "code",
   "execution_count": null,
   "metadata": {},
   "outputs": [],
   "source": [
    "pgm_en = db.get_table(db[scan_ids], stream_name=\"baseline\", fields=['pgm_en'])['pgm_en']\n",
    "energies = (pgm_en[pgm_en.index == 1].values + pgm_en[pgm_en.index == 2].values)/2"
   ]
  },
  {
   "cell_type": "markdown",
   "metadata": {},
   "source": [
    "## Take mean over eqivalent energies\n",
    "\n",
    "The eventual data structure will mean this can be done much more elegantly"
   ]
  },
  {
   "cell_type": "code",
   "execution_count": null,
   "metadata": {},
   "outputs": [],
   "source": [
    "energies = np.round(energies, decimals=1)\n",
    "unique_energies = np.unique(energies)\n",
    "\n",
    "scan_mean_equiv_E = np.array([np.mean(scan[np.abs(energies - E) < 0.05, :, :, :], axis=0)\n",
    "                              for E in unique_energies])\n",
    "\n",
    "scan_ids_equiv_E = [np.array(scan_ids)[np.abs(energies - E) < 0.05] for E in unique_energies]"
   ]
  },
  {
   "cell_type": "markdown",
   "metadata": {},
   "source": [
    "## Plot spectra"
   ]
  },
  {
   "cell_type": "code",
   "execution_count": null,
   "metadata": {},
   "outputs": [],
   "source": [
    "event_labels = [\"{:.1f}\".format(E) for E in unique_energies]\n",
    "\n",
    "ax_scan.cla()\n",
    "plot_scan(ax_scan, scan_mean_equiv_E, event_labels=event_labels,\n",
    "          marker='.', markersize=0.5, xlabel='Pixel',\n",
    "          linestyle='-', legend_kw=dict(ncol=2))\n",
    "\n",
    "display(plot_output_scan)"
   ]
  },
  {
   "cell_type": "markdown",
   "metadata": {},
   "source": [
    "## Calibrate spectra"
   ]
  },
  {
   "cell_type": "code",
   "execution_count": null,
   "metadata": {},
   "outputs": [],
   "source": [
    "elastics = np.array([[S[np.argmax(S[:,1]),0] for S in event]\n",
    "                     for event in scan_mean_equiv_E])\n",
    "\n",
    "cal_scan = calibrate(scan_mean_equiv_E, elastics, -0.01)\n",
    "\n",
    "ax_cal_scan.cla()\n",
    "plot_scan(ax_cal_scan, cal_scan, event_labels=event_labels,\n",
    "          marker='.', markersize=0.5,\n",
    "          linestyle='-', legend_kw=dict(ncol=2))\n",
    "\n",
    "display(plot_output_cal_scan)"
   ]
  },
  {
   "cell_type": "code",
   "execution_count": null,
   "metadata": {},
   "outputs": [],
   "source": [
    "energy_loss = np.linspace(-0.5, 10, 1000)\n",
    "\n",
    "RIXSmap = np.array([interp_robust(energy_loss, S[:,0], S[:,1])\n",
    "                    for S in cal_scan.mean(1)])\n",
    "\n",
    "def plot_map(ax, cax, vmin=0, vmax=2000):\n",
    "    art = ax.pcolor(energy_loss, unique_energies, RIXSmap, vmin=vmin, vmax=vmax)\n",
    "    cb = plt.colorbar(art, cax=cax)\n",
    "    cb.set_label('I')\n",
    "    ax.set_xlabel('Energy loss')\n",
    "    ax.set_ylabel('Incident energy (eV)')\n",
    "\n",
    "vin_widget2 = ipywidgets.FloatText(value=np.nanpercentile(RIXSmap, 1))\n",
    "vmax_widget2 = ipywidgets.FloatText(value=np.nanpercentile(RIXSmap, 99))\n",
    "\n",
    "grab = interactive(plot_map, ax=fixed(ax_map), cax=fixed(cax_map), vmin=vin_widget2, vmax=vmax_widget2)\n",
    "\n",
    "display(plot_output_map, vin_widget2, vmax_widget2)"
   ]
  },
  {
   "cell_type": "code",
   "execution_count": null,
   "metadata": {},
   "outputs": [],
   "source": []
  }
 ],
 "metadata": {
  "kernelspec": {
   "display_name": "Python (mark_six)",
   "language": "python",
   "name": "mark_six"
  },
  "language_info": {
   "codemirror_mode": {
    "name": "ipython",
    "version": 3
   },
   "file_extension": ".py",
   "mimetype": "text/x-python",
   "name": "python",
   "nbconvert_exporter": "python",
   "pygments_lexer": "ipython3",
   "version": "3.6.5"
  }
 },
 "nbformat": 4,
 "nbformat_minor": 2
}
